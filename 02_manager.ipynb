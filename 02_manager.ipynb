{
 "cells": [
  {
   "cell_type": "raw",
   "metadata": {},
   "source": [
    "请注意，以下仅用于学习，不构成投资建议。"
   ]
  },
  {
   "cell_type": "markdown",
   "metadata": {},
   "source": [
    "# 1.提出问题"
   ]
  },
  {
   "cell_type": "raw",
   "metadata": {},
   "source": [
    "作为一种方便、安全可靠的理财工具，公募基金越来越受到欢迎。基金按照不同的标准分为很多种类型，在这里不一一做介绍，只对接下来会涉及到的金融知识稍作讲解。\n",
    "首先可以把基金分为主动管理型和被动管理型基金，主动管理型基金经理在基金的收益与风险表现中起着非常重要的作用，基金经理根据不同的投资理念和投资策略选出自己的投资标的并结合行情进行操作，被动管理型基金则只要被动的跟踪对应指数就行，常见的宽基指数如沪深300指数、中证500指数，基金经理无需进行复杂的标的选择和根据行情的操作。\n",
    "其次根据投资的不同标的资产所占的比例可以分为混合基金、股票型基金，混合基金股票资产在其中所占的比例大概为30%-90%，其他可以为债券、资产支持证券等其他金融资产，股票基金股票资产则要占到其总资产的80%以上。常见的跟踪各类宽基指数及行业指数的基金其实也是股票基金，其资产往往90%以上都投资于股票。\n",
    "\n",
    "在近两年的基金投资经历中，也了解了以下几点：\n",
    "1.主动管理型基金因为有基金经理的操作，在震荡市中会有不错的表现，波动相对也较小，也不是非常考验投资者的择时能力，不熟悉基金的人如果选择一个优质的基金长期持有也会有不错的收益。而指数基金因为只是被动跟随指数涨跌，波动很大，可能会一直涨涨跌跌，浪费了资金的时间成本，最终也没有太好的收益。指数基金相对需要一定的择时能力，但不仅新手即使是老手在择时上也可能会翻车，所以不建议新手直接操作指数基金。\n",
    "2.目前A股市场还不是非常成熟，个人投资者占比也较大，因此仍然有很大的超额收益空间。并且由于相对国外成熟市场多了一些其他的复杂因素，导致A股的指数也有些失真。所以，我更愿意选择主动管理型基金进行投资。\n",
    "3.如果有合适的策略(如基金定投，低点多投，高点少投，积累份额)并且把握好卖出的时机，指数基金确实可能大幅领先主动管理型基金。但问题是，大多数人尤其是新手，会本能的有对下跌的恐惧，最后结果往往是追涨杀跌并且频繁买卖造成大量的交易费用。也就是说人们心理上更难以接受太大的波动，在这方面主动管理型基金由于基金经理的把控，波动率会更低，投资者更容易做到长期持有，来赚取收益。\n",
    "4.由于基金经理对主动管理型基金的收益与风险表现及其重要，所以选择主动管理型基金其实就是选人择基，首先找到对的人，然后找到他管理的最好的基金。\n",
    "\n",
    "我们提出以下两个问题：\n",
    "1.股票指数型基金、混合基金、股票基金哪种类型更适合新手操作？\n",
    "2.如何找到优秀的基金经理？"
   ]
  },
  {
   "cell_type": "markdown",
   "metadata": {},
   "source": [
    "# 2.数据获取"
   ]
  },
  {
   "cell_type": "raw",
   "metadata": {},
   "source": [
    "我们从某知名基金销售网站上爬取截止日期为2019年3月7日的基金经理及其现任基金的相关数据，虽然数据有限，但是我们将通过分析来对以上两个问题进行尽可能贴近实际情况的解答。"
   ]
  },
  {
   "cell_type": "markdown",
   "metadata": {},
   "source": [
    "# 3.理解数据"
   ]
  },
  {
   "cell_type": "code",
   "execution_count": 1,
   "metadata": {},
   "outputs": [],
   "source": [
    "from pandas import DataFrame, Series\n",
    "import pandas as pd\n",
    "import numpy as np\n",
    "import re\n",
    "import matplotlib.pyplot as plt\n",
    "import seaborn as sns"
   ]
  },
  {
   "cell_type": "code",
   "execution_count": 2,
   "metadata": {},
   "outputs": [],
   "source": [
    "managers = pd.read_excel('F:\\Found\\manager.xlsx')\n",
    "present = pd.read_excel('F:\\Found\\present.xlsx')"
   ]
  },
  {
   "cell_type": "code",
   "execution_count": 3,
   "metadata": {},
   "outputs": [
    {
     "name": "stdout",
     "output_type": "stream",
     "text": [
      "managers 共有1924行7列。\n",
      "present 共有11099行14列。\n"
     ]
    }
   ],
   "source": [
    "#查看元数据有几行几列\n",
    "print('managers 共有{}行{}列。'.format(managers.shape[0], managers.shape[1]))\n",
    "print('present 共有{}行{}列。'.format(present.shape[0], present.shape[1]))"
   ]
  },
  {
   "cell_type": "code",
   "execution_count": 4,
   "metadata": {},
   "outputs": [
    {
     "name": "stdout",
     "output_type": "stream",
     "text": [
      "<class 'pandas.core.frame.DataFrame'>\n",
      "RangeIndex: 1924 entries, 0 to 1923\n",
      "Data columns (total 7 columns):\n",
      "经理编码          1924 non-null int64\n",
      "基金经理          1924 non-null object\n",
      "累计任职时间        1924 non-null object\n",
      "任职起始日期        1924 non-null datetime64[ns]\n",
      "现任基金公司        1924 non-null object\n",
      "现任基金资产总规模     1924 non-null object\n",
      "任职期间最佳基金回报    1909 non-null float64\n",
      "dtypes: datetime64[ns](1), float64(1), int64(1), object(4)\n",
      "memory usage: 105.3+ KB\n"
     ]
    },
    {
     "data": {
      "text/html": [
       "<div>\n",
       "<style scoped>\n",
       "    .dataframe tbody tr th:only-of-type {\n",
       "        vertical-align: middle;\n",
       "    }\n",
       "\n",
       "    .dataframe tbody tr th {\n",
       "        vertical-align: top;\n",
       "    }\n",
       "\n",
       "    .dataframe thead th {\n",
       "        text-align: right;\n",
       "    }\n",
       "</style>\n",
       "<table border=\"1\" class=\"dataframe\">\n",
       "  <thead>\n",
       "    <tr style=\"text-align: right;\">\n",
       "      <th></th>\n",
       "      <th>经理编码</th>\n",
       "      <th>基金经理</th>\n",
       "      <th>累计任职时间</th>\n",
       "      <th>任职起始日期</th>\n",
       "      <th>现任基金公司</th>\n",
       "      <th>现任基金资产总规模</th>\n",
       "      <th>任职期间最佳基金回报</th>\n",
       "    </tr>\n",
       "  </thead>\n",
       "  <tbody>\n",
       "    <tr>\n",
       "      <th>0</th>\n",
       "      <td>30591017</td>\n",
       "      <td>谢创</td>\n",
       "      <td>176天</td>\n",
       "      <td>2018-09-11</td>\n",
       "      <td>创金合信基金管理有限公司</td>\n",
       "      <td>44.39亿元</td>\n",
       "      <td>0.0275</td>\n",
       "    </tr>\n",
       "    <tr>\n",
       "      <th>1</th>\n",
       "      <td>30048530</td>\n",
       "      <td>黎颖芳</td>\n",
       "      <td>10年又17天</td>\n",
       "      <td>2009-02-19</td>\n",
       "      <td>建信基金管理有限责任公司</td>\n",
       "      <td>330.77亿元</td>\n",
       "      <td>0.3410</td>\n",
       "    </tr>\n",
       "    <tr>\n",
       "      <th>2</th>\n",
       "      <td>30197926</td>\n",
       "      <td>袁争光</td>\n",
       "      <td>4年又256天</td>\n",
       "      <td>2013-01-31</td>\n",
       "      <td>博道基金管理有限公司</td>\n",
       "      <td>3.96亿元</td>\n",
       "      <td>0.9239</td>\n",
       "    </tr>\n",
       "    <tr>\n",
       "      <th>3</th>\n",
       "      <td>30600699</td>\n",
       "      <td>张佳蕾</td>\n",
       "      <td>138天</td>\n",
       "      <td>2018-10-19</td>\n",
       "      <td>鹏华基金管理有限公司</td>\n",
       "      <td>104.59亿元</td>\n",
       "      <td>0.0105</td>\n",
       "    </tr>\n",
       "    <tr>\n",
       "      <th>4</th>\n",
       "      <td>30198031</td>\n",
       "      <td>谢治宇</td>\n",
       "      <td>6年又37天</td>\n",
       "      <td>2013-01-29</td>\n",
       "      <td>兴全基金管理有限公司</td>\n",
       "      <td>315.97亿元</td>\n",
       "      <td>2.5227</td>\n",
       "    </tr>\n",
       "  </tbody>\n",
       "</table>\n",
       "</div>"
      ],
      "text/plain": [
       "       经理编码 基金经理   累计任职时间     任职起始日期        现任基金公司 现任基金资产总规模  任职期间最佳基金回报\n",
       "0  30591017   谢创     176天 2018-09-11  创金合信基金管理有限公司   44.39亿元      0.0275\n",
       "1  30048530  黎颖芳  10年又17天 2009-02-19  建信基金管理有限责任公司  330.77亿元      0.3410\n",
       "2  30197926  袁争光  4年又256天 2013-01-31    博道基金管理有限公司    3.96亿元      0.9239\n",
       "3  30600699  张佳蕾     138天 2018-10-19    鹏华基金管理有限公司  104.59亿元      0.0105\n",
       "4  30198031  谢治宇   6年又37天 2013-01-29    兴全基金管理有限公司  315.97亿元      2.5227"
      ]
     },
     "execution_count": 4,
     "metadata": {},
     "output_type": "execute_result"
    }
   ],
   "source": [
    "managers.info()\n",
    "managers.head()"
   ]
  },
  {
   "cell_type": "code",
   "execution_count": 5,
   "metadata": {},
   "outputs": [
    {
     "name": "stdout",
     "output_type": "stream",
     "text": [
      "<class 'pandas.core.frame.DataFrame'>\n",
      "RangeIndex: 11099 entries, 0 to 11098\n",
      "Data columns (total 14 columns):\n",
      "经理编码      11099 non-null int64\n",
      "基金代码      11099 non-null int64\n",
      "基金名称      11099 non-null object\n",
      "基金类型      11099 non-null object\n",
      "近三月       11099 non-null object\n",
      "同类排名      11099 non-null object\n",
      "近六月       11099 non-null object\n",
      "同类排名.1    11099 non-null object\n",
      "近一年       11099 non-null object\n",
      "同类排名.2    11099 non-null object\n",
      "近两年       11099 non-null object\n",
      "同类排名.3    11099 non-null object\n",
      "今年来       11099 non-null object\n",
      "同类排名.4    11099 non-null object\n",
      "dtypes: int64(2), object(12)\n",
      "memory usage: 1.2+ MB\n"
     ]
    },
    {
     "data": {
      "text/html": [
       "<div>\n",
       "<style scoped>\n",
       "    .dataframe tbody tr th:only-of-type {\n",
       "        vertical-align: middle;\n",
       "    }\n",
       "\n",
       "    .dataframe tbody tr th {\n",
       "        vertical-align: top;\n",
       "    }\n",
       "\n",
       "    .dataframe thead th {\n",
       "        text-align: right;\n",
       "    }\n",
       "</style>\n",
       "<table border=\"1\" class=\"dataframe\">\n",
       "  <thead>\n",
       "    <tr style=\"text-align: right;\">\n",
       "      <th></th>\n",
       "      <th>经理编码</th>\n",
       "      <th>基金代码</th>\n",
       "      <th>基金名称</th>\n",
       "      <th>基金类型</th>\n",
       "      <th>近三月</th>\n",
       "      <th>同类排名</th>\n",
       "      <th>近六月</th>\n",
       "      <th>同类排名.1</th>\n",
       "      <th>近一年</th>\n",
       "      <th>同类排名.2</th>\n",
       "      <th>近两年</th>\n",
       "      <th>同类排名.3</th>\n",
       "      <th>今年来</th>\n",
       "      <th>同类排名.4</th>\n",
       "    </tr>\n",
       "  </thead>\n",
       "  <tbody>\n",
       "    <tr>\n",
       "      <th>0</th>\n",
       "      <td>30591017</td>\n",
       "      <td>6874</td>\n",
       "      <td>创金恒兴中短债债券A</td>\n",
       "      <td>债券型</td>\n",
       "      <td>-</td>\n",
       "      <td>-|1463</td>\n",
       "      <td>-</td>\n",
       "      <td>-|1332</td>\n",
       "      <td>-</td>\n",
       "      <td>-|1209</td>\n",
       "      <td>-</td>\n",
       "      <td>-|1041</td>\n",
       "      <td>-</td>\n",
       "      <td>-|1525</td>\n",
       "    </tr>\n",
       "    <tr>\n",
       "      <th>1</th>\n",
       "      <td>30591017</td>\n",
       "      <td>6875</td>\n",
       "      <td>创金恒兴中短债债券C</td>\n",
       "      <td>债券型</td>\n",
       "      <td>-</td>\n",
       "      <td>-|1463</td>\n",
       "      <td>-</td>\n",
       "      <td>-|1332</td>\n",
       "      <td>-</td>\n",
       "      <td>-|1209</td>\n",
       "      <td>-</td>\n",
       "      <td>-|1041</td>\n",
       "      <td>-</td>\n",
       "      <td>-|1525</td>\n",
       "    </tr>\n",
       "    <tr>\n",
       "      <th>2</th>\n",
       "      <td>30591017</td>\n",
       "      <td>6824</td>\n",
       "      <td>创金合信鑫日享短债债券A</td>\n",
       "      <td>债券型</td>\n",
       "      <td>-</td>\n",
       "      <td>-|1463</td>\n",
       "      <td>-</td>\n",
       "      <td>-|1332</td>\n",
       "      <td>-</td>\n",
       "      <td>-|1209</td>\n",
       "      <td>-</td>\n",
       "      <td>-|1041</td>\n",
       "      <td>-</td>\n",
       "      <td>-|1525</td>\n",
       "    </tr>\n",
       "    <tr>\n",
       "      <th>3</th>\n",
       "      <td>30591017</td>\n",
       "      <td>6825</td>\n",
       "      <td>创金合信鑫日享短债债券C</td>\n",
       "      <td>债券型</td>\n",
       "      <td>-</td>\n",
       "      <td>-|1463</td>\n",
       "      <td>-</td>\n",
       "      <td>-|1332</td>\n",
       "      <td>-</td>\n",
       "      <td>-|1209</td>\n",
       "      <td>-</td>\n",
       "      <td>-|1041</td>\n",
       "      <td>-</td>\n",
       "      <td>-|1525</td>\n",
       "    </tr>\n",
       "    <tr>\n",
       "      <th>4</th>\n",
       "      <td>30591017</td>\n",
       "      <td>3749</td>\n",
       "      <td>创金合信鑫收益混合A</td>\n",
       "      <td>混合型</td>\n",
       "      <td>0.0222</td>\n",
       "      <td>2330|2779</td>\n",
       "      <td>-0.0093</td>\n",
       "      <td>2555|2702</td>\n",
       "      <td>-0.0019</td>\n",
       "      <td>1131|2502</td>\n",
       "      <td>0.0589</td>\n",
       "      <td>1070|1990</td>\n",
       "      <td>0.0241</td>\n",
       "      <td>2379|2798</td>\n",
       "    </tr>\n",
       "  </tbody>\n",
       "</table>\n",
       "</div>"
      ],
      "text/plain": [
       "       经理编码  基金代码          基金名称 基金类型     近三月       同类排名     近六月     同类排名.1  \\\n",
       "0  30591017  6874    创金恒兴中短债债券A  债券型       -     -|1463       -     -|1332   \n",
       "1  30591017  6875    创金恒兴中短债债券C  债券型       -     -|1463       -     -|1332   \n",
       "2  30591017  6824  创金合信鑫日享短债债券A  债券型       -     -|1463       -     -|1332   \n",
       "3  30591017  6825  创金合信鑫日享短债债券C  债券型       -     -|1463       -     -|1332   \n",
       "4  30591017  3749    创金合信鑫收益混合A  混合型  0.0222  2330|2779 -0.0093  2555|2702   \n",
       "\n",
       "      近一年     同类排名.2     近两年     同类排名.3     今年来     同类排名.4  \n",
       "0       -     -|1209       -     -|1041       -     -|1525  \n",
       "1       -     -|1209       -     -|1041       -     -|1525  \n",
       "2       -     -|1209       -     -|1041       -     -|1525  \n",
       "3       -     -|1209       -     -|1041       -     -|1525  \n",
       "4 -0.0019  1131|2502  0.0589  1070|1990  0.0241  2379|2798  "
      ]
     },
     "execution_count": 5,
     "metadata": {},
     "output_type": "execute_result"
    }
   ],
   "source": [
    "present.info()\n",
    "present.head()"
   ]
  },
  {
   "cell_type": "raw",
   "metadata": {},
   "source": [
    "1.managers中将使用的字段有【经理编码】、【基金经理】、【累计任职天数】。其中【经理编码】应该是【基金经理】的唯一编码(接下来我们也会进行验证)，并且managers通过【经理编码】与present进行联结。\n",
    "2.present中各字段我们基本都需要使用，由于以上数据的爬取时间为2019年3月初，【近三月】与【今年来】收益率差别不是很大，所以【近年来】、【同类排名.4】字段将被删除。\n",
    "3.如果一个基金经理累计任职时间不超过两年，我们认为其业绩可能含有较多偶然因素，并非由其投研实力决定。所以我们将通过【累计任职时间】字段过滤掉那些不超过两年的基金经理。这里累计任职时间是用\"...年又...天\"这样的格式给出，我们接下来会将1年换算为365天，然后进行过滤筛选。\n",
    "4.【基金代码】是四位数字？这不是数据爬取的时候出错，而是保存的时候由于以int类型存储，前面的0自动被去除，这个接下来也需要处理。\n",
    "5.【基金类型】中包含了我们不需要的类型，我们将从中筛选出我们将要分析的基金类型。\n",
    "6.通过【近三月】、【同类排名】等字段，我们发现，其中的空值都用\"-\"代替了，但这会影响我们接下来的分析，因此，所有包含\"-\"的行都要被删除。\n",
    "7.【同类排名】中\"|\"前的为该基金的排名，后面的为市场上该类型基金的总数，目前的数据格式我们无法进行分析，需要将同类型的字段都拆分为两个字段，一个记录该基金排名，一个记录同类基金总数量。"
   ]
  },
  {
   "cell_type": "markdown",
   "metadata": {},
   "source": [
    "# 4.数据清洗"
   ]
  },
  {
   "cell_type": "markdown",
   "metadata": {},
   "source": [
    "# 4.1选择子集"
   ]
  },
  {
   "cell_type": "code",
   "execution_count": 6,
   "metadata": {},
   "outputs": [],
   "source": [
    "# managers 中仅需要使用【经理编码】、【基金经理】、【累计任职时间】这三个字段\n",
    "# present 无需使用【今年来】、【同类排名.4】字段\n",
    "managers = managers.drop(columns=['任职起始日期','现任基金公司','现任基金资产总规模','任职期间最佳基金回报'], axis=1)\n",
    "present = present.drop(columns=['今年来','同类排名.4'], axis=1)"
   ]
  },
  {
   "cell_type": "code",
   "execution_count": 7,
   "metadata": {},
   "outputs": [],
   "source": [
    "'''\n",
    "我们想要分析的基金类型是股票型、混合型及指数型基金。数据集中的基金类型比较复杂，包含：'混合型', '债券型', '定开债券', '货币型', '分级杠杆', \n",
    "'固定收益', '理财型', 'ETF-场内','联接基金', 'QDII-指数', '股票指数', '股票型', 'QDII', 'QDII-ETF', '保本型','债券指数', '其他创新'\n",
    "我们只找到最符合目的的基金类型：\n",
    "股票型：'股票型'\n",
    "混合型：'混合型'\n",
    "指数型：'股票指数'\n",
    "'''\n",
    "present['基金类型'].unique()\n",
    "#present[present['基金类型']=='股票指数']\n",
    "present = present.loc[present['基金类型'].isin(['股票指数','股票型','混合型']),:]\n",
    "#present.head()"
   ]
  },
  {
   "cell_type": "markdown",
   "metadata": {},
   "source": [
    "# 4.2将部分列拆分"
   ]
  },
  {
   "cell_type": "raw",
   "metadata": {},
   "source": [
    "针对【同类排名】的几列，是将基金排名与同类型基金的数量放在一起，中间用\"|\"进行分隔的，现在需要将每一列拆分为两列，一列存储其排名，一列存储同类型基金的数量"
   ]
  },
  {
   "cell_type": "code",
   "execution_count": 8,
   "metadata": {},
   "outputs": [],
   "source": [
    "present[[\"近三月排名\",\"近三月同类基金数量\"]] = present[\"同类排名\"].apply(lambda x: pd.Series([i for i in x.split(\"|\")]))\n",
    "present[[\"近六月排名\",\"近六月同类基金数量\"]] = present[\"同类排名.1\"].apply(lambda x: pd.Series([i for i in x.split(\"|\")]))\n",
    "present[[\"近一年排名\",\"近一年同类基金数量\"]] = present[\"同类排名.2\"].apply(lambda x: pd.Series([i for i in x.split(\"|\")]))\n",
    "present[[\"近两年排名\",\"近两年同类基金数量\"]] = present[\"同类排名.3\"].apply(lambda x: pd.Series([i for i in x.split(\"|\")]))"
   ]
  },
  {
   "cell_type": "code",
   "execution_count": 9,
   "metadata": {},
   "outputs": [],
   "source": [
    "present = present.drop([\"同类排名\",\"同类排名.1\",\"同类排名.2\",\"同类排名.3\"], axis=1)"
   ]
  },
  {
   "cell_type": "markdown",
   "metadata": {},
   "source": [
    "# 4.3列名重命名"
   ]
  },
  {
   "cell_type": "raw",
   "metadata": {},
   "source": [
    "【近三月】等几个字段实际上表示的是收益率，但看名字不知其所以然，对其重命名"
   ]
  },
  {
   "cell_type": "code",
   "execution_count": 10,
   "metadata": {},
   "outputs": [],
   "source": [
    "present.rename(columns={\"近三月\":\"近三月收益率\",\"近六月\":\"近六月收益率\",\"近一年\":\"近一年收益率\",\"近两年\":\"近两年收益率\"},inplace=True)\n",
    "#resent.head()"
   ]
  },
  {
   "cell_type": "markdown",
   "metadata": {},
   "source": [
    "# 4.4删除重复值"
   ]
  },
  {
   "cell_type": "raw",
   "metadata": {},
   "source": [
    "1.managers中【经理编码】应该是与基金经理对应的，是唯一的，我们会对其进项验证，如果有重复值就删除。\n",
    "2.present中【基金代码】应该是唯一的，我们对其进行验证并删除重复值。"
   ]
  },
  {
   "cell_type": "code",
   "execution_count": 11,
   "metadata": {},
   "outputs": [
    {
     "data": {
      "text/plain": [
       "3850"
      ]
     },
     "execution_count": 11,
     "metadata": {},
     "output_type": "execute_result"
    }
   ],
   "source": [
    "#没有重复值\n",
    "managers['经理编码'].nunique()\n",
    "#有重复值，删除重复值\n",
    "present['基金代码'].nunique()\n",
    "present = present.drop_duplicates(subset=['基金代码'], keep='first')\n",
    "present.shape[0]"
   ]
  },
  {
   "cell_type": "markdown",
   "metadata": {},
   "source": [
    "# 4.4缺失值处理"
   ]
  },
  {
   "cell_type": "raw",
   "metadata": {},
   "source": [
    "这里的缺失值都是用\"-\"表示的，因为我们需要对近两年的数据进行分析，所以如果【近两年排名】为\"-\"就将该行数据删除。并且如果近两年的数据是有的，那么更短时间段的数据也是有的。"
   ]
  },
  {
   "cell_type": "code",
   "execution_count": 12,
   "metadata": {},
   "outputs": [],
   "source": [
    "present = present[present['近两年排名']!='-']\n",
    "#present.head()"
   ]
  },
  {
   "cell_type": "markdown",
   "metadata": {},
   "source": [
    "# 4.5一致化处理"
   ]
  },
  {
   "cell_type": "raw",
   "metadata": {},
   "source": [
    "1.managers中的【累计任职天数】是“x年x天”的形式，这样我们无法进行分析，需要将其格式化为天(1年按365天计算)\n",
    "2.present中【基金代码】都是六位数字的，这里有部分不是六位的，是因为如果开头是0,在存储的时候会自动省略"
   ]
  },
  {
   "cell_type": "code",
   "execution_count": 13,
   "metadata": {},
   "outputs": [],
   "source": [
    "managers['year'] = [int(x.split('年又')[0]) if x.find('年又')>0 else 0 for x in managers['累计任职时间']]\n",
    "managers['day'] = [x.split('年又')[1] if x.find('年又')>0 else x for x in managers['累计任职时间']]\n",
    "managers['day'] = [int(x.split('天')[0]) for x in managers['day']]\n",
    "managers['累计任职时间'] = managers['year']*365 + managers['day']"
   ]
  },
  {
   "cell_type": "code",
   "execution_count": 14,
   "metadata": {},
   "outputs": [
    {
     "data": {
      "text/html": [
       "<div>\n",
       "<style scoped>\n",
       "    .dataframe tbody tr th:only-of-type {\n",
       "        vertical-align: middle;\n",
       "    }\n",
       "\n",
       "    .dataframe tbody tr th {\n",
       "        vertical-align: top;\n",
       "    }\n",
       "\n",
       "    .dataframe thead th {\n",
       "        text-align: right;\n",
       "    }\n",
       "</style>\n",
       "<table border=\"1\" class=\"dataframe\">\n",
       "  <thead>\n",
       "    <tr style=\"text-align: right;\">\n",
       "      <th></th>\n",
       "      <th>经理编码</th>\n",
       "      <th>基金经理</th>\n",
       "      <th>累计任职时间</th>\n",
       "    </tr>\n",
       "  </thead>\n",
       "  <tbody>\n",
       "    <tr>\n",
       "      <th>0</th>\n",
       "      <td>30591017</td>\n",
       "      <td>谢创</td>\n",
       "      <td>176</td>\n",
       "    </tr>\n",
       "    <tr>\n",
       "      <th>1</th>\n",
       "      <td>30048530</td>\n",
       "      <td>黎颖芳</td>\n",
       "      <td>3667</td>\n",
       "    </tr>\n",
       "    <tr>\n",
       "      <th>2</th>\n",
       "      <td>30197926</td>\n",
       "      <td>袁争光</td>\n",
       "      <td>1716</td>\n",
       "    </tr>\n",
       "    <tr>\n",
       "      <th>3</th>\n",
       "      <td>30600699</td>\n",
       "      <td>张佳蕾</td>\n",
       "      <td>138</td>\n",
       "    </tr>\n",
       "    <tr>\n",
       "      <th>4</th>\n",
       "      <td>30198031</td>\n",
       "      <td>谢治宇</td>\n",
       "      <td>2227</td>\n",
       "    </tr>\n",
       "  </tbody>\n",
       "</table>\n",
       "</div>"
      ],
      "text/plain": [
       "       经理编码 基金经理  累计任职时间\n",
       "0  30591017   谢创     176\n",
       "1  30048530  黎颖芳    3667\n",
       "2  30197926  袁争光    1716\n",
       "3  30600699  张佳蕾     138\n",
       "4  30198031  谢治宇    2227"
      ]
     },
     "execution_count": 14,
     "metadata": {},
     "output_type": "execute_result"
    }
   ],
   "source": [
    "managers = managers.drop(columns=['year','day'], axis=1)\n",
    "managers.head()"
   ]
  },
  {
   "cell_type": "code",
   "execution_count": 15,
   "metadata": {},
   "outputs": [
    {
     "data": {
      "text/html": [
       "<div>\n",
       "<style scoped>\n",
       "    .dataframe tbody tr th:only-of-type {\n",
       "        vertical-align: middle;\n",
       "    }\n",
       "\n",
       "    .dataframe tbody tr th {\n",
       "        vertical-align: top;\n",
       "    }\n",
       "\n",
       "    .dataframe thead th {\n",
       "        text-align: right;\n",
       "    }\n",
       "</style>\n",
       "<table border=\"1\" class=\"dataframe\">\n",
       "  <thead>\n",
       "    <tr style=\"text-align: right;\">\n",
       "      <th></th>\n",
       "      <th>经理编码</th>\n",
       "      <th>基金代码</th>\n",
       "      <th>基金名称</th>\n",
       "      <th>基金类型</th>\n",
       "      <th>近三月收益率</th>\n",
       "      <th>近六月收益率</th>\n",
       "      <th>近一年收益率</th>\n",
       "      <th>近两年收益率</th>\n",
       "      <th>近三月排名</th>\n",
       "      <th>近三月同类基金数量</th>\n",
       "      <th>近六月排名</th>\n",
       "      <th>近六月同类基金数量</th>\n",
       "      <th>近一年排名</th>\n",
       "      <th>近一年同类基金数量</th>\n",
       "      <th>近两年排名</th>\n",
       "      <th>近两年同类基金数量</th>\n",
       "    </tr>\n",
       "  </thead>\n",
       "  <tbody>\n",
       "    <tr>\n",
       "      <th>4</th>\n",
       "      <td>30591017</td>\n",
       "      <td>003749</td>\n",
       "      <td>创金合信鑫收益混合A</td>\n",
       "      <td>混合型</td>\n",
       "      <td>0.0222</td>\n",
       "      <td>-0.0093</td>\n",
       "      <td>-0.0019</td>\n",
       "      <td>0.0589</td>\n",
       "      <td>2330</td>\n",
       "      <td>2779</td>\n",
       "      <td>2555</td>\n",
       "      <td>2702</td>\n",
       "      <td>1131</td>\n",
       "      <td>2502</td>\n",
       "      <td>1070</td>\n",
       "      <td>1990</td>\n",
       "    </tr>\n",
       "    <tr>\n",
       "      <th>6</th>\n",
       "      <td>30591017</td>\n",
       "      <td>003750</td>\n",
       "      <td>创金合信鑫收益混合C</td>\n",
       "      <td>混合型</td>\n",
       "      <td>0.0017</td>\n",
       "      <td>-0.0523</td>\n",
       "      <td>-0.0455</td>\n",
       "      <td>0.1946</td>\n",
       "      <td>2694</td>\n",
       "      <td>2779</td>\n",
       "      <td>2660</td>\n",
       "      <td>2702</td>\n",
       "      <td>1599</td>\n",
       "      <td>2502</td>\n",
       "      <td>280</td>\n",
       "      <td>1990</td>\n",
       "    </tr>\n",
       "    <tr>\n",
       "      <th>29</th>\n",
       "      <td>30198031</td>\n",
       "      <td>163406</td>\n",
       "      <td>兴全合润分级混合</td>\n",
       "      <td>混合型</td>\n",
       "      <td>0.1875</td>\n",
       "      <td>0.1834</td>\n",
       "      <td>-0.0349</td>\n",
       "      <td>0.2137</td>\n",
       "      <td>340</td>\n",
       "      <td>2779</td>\n",
       "      <td>179</td>\n",
       "      <td>2702</td>\n",
       "      <td>1498</td>\n",
       "      <td>2502</td>\n",
       "      <td>229</td>\n",
       "      <td>1990</td>\n",
       "    </tr>\n",
       "    <tr>\n",
       "      <th>59</th>\n",
       "      <td>30285153</td>\n",
       "      <td>519773</td>\n",
       "      <td>交银数据产业灵活配置混合</td>\n",
       "      <td>混合型</td>\n",
       "      <td>0.2233</td>\n",
       "      <td>0.0733</td>\n",
       "      <td>0.0494</td>\n",
       "      <td>-0.0861</td>\n",
       "      <td>149</td>\n",
       "      <td>2779</td>\n",
       "      <td>1312</td>\n",
       "      <td>2702</td>\n",
       "      <td>443</td>\n",
       "      <td>2502</td>\n",
       "      <td>1715</td>\n",
       "      <td>1990</td>\n",
       "    </tr>\n",
       "    <tr>\n",
       "      <th>60</th>\n",
       "      <td>30285153</td>\n",
       "      <td>519767</td>\n",
       "      <td>交银科技创新灵活配置混合</td>\n",
       "      <td>混合型</td>\n",
       "      <td>0.2238</td>\n",
       "      <td>0.0887</td>\n",
       "      <td>0.1563</td>\n",
       "      <td>0.1022</td>\n",
       "      <td>146</td>\n",
       "      <td>2779</td>\n",
       "      <td>1097</td>\n",
       "      <td>2702</td>\n",
       "      <td>87</td>\n",
       "      <td>2502</td>\n",
       "      <td>775</td>\n",
       "      <td>1990</td>\n",
       "    </tr>\n",
       "  </tbody>\n",
       "</table>\n",
       "</div>"
      ],
      "text/plain": [
       "        经理编码    基金代码          基金名称 基金类型  近三月收益率  近六月收益率  近一年收益率  近两年收益率 近三月排名  \\\n",
       "4   30591017  003749    创金合信鑫收益混合A  混合型  0.0222 -0.0093 -0.0019  0.0589  2330   \n",
       "6   30591017  003750    创金合信鑫收益混合C  混合型  0.0017 -0.0523 -0.0455  0.1946  2694   \n",
       "29  30198031  163406      兴全合润分级混合  混合型  0.1875  0.1834 -0.0349  0.2137   340   \n",
       "59  30285153  519773  交银数据产业灵活配置混合  混合型  0.2233  0.0733  0.0494 -0.0861   149   \n",
       "60  30285153  519767  交银科技创新灵活配置混合  混合型  0.2238  0.0887  0.1563  0.1022   146   \n",
       "\n",
       "   近三月同类基金数量 近六月排名 近六月同类基金数量 近一年排名 近一年同类基金数量 近两年排名 近两年同类基金数量  \n",
       "4       2779  2555      2702  1131      2502  1070      1990  \n",
       "6       2779  2660      2702  1599      2502   280      1990  \n",
       "29      2779   179      2702  1498      2502   229      1990  \n",
       "59      2779  1312      2702   443      2502  1715      1990  \n",
       "60      2779  1097      2702    87      2502   775      1990  "
      ]
     },
     "execution_count": 15,
     "metadata": {},
     "output_type": "execute_result"
    }
   ],
   "source": [
    "present['基金代码'] = present['基金代码'].map(lambda x: str(x))\n",
    "present['基金代码'] = ['0'*(6-len(x))+x for x in present['基金代码']]\n",
    "present.head()"
   ]
  },
  {
   "cell_type": "markdown",
   "metadata": {},
   "source": [
    "# 4.6格式清洗"
   ]
  },
  {
   "cell_type": "code",
   "execution_count": 16,
   "metadata": {},
   "outputs": [
    {
     "data": {
      "text/plain": [
       "2520"
      ]
     },
     "execution_count": 16,
     "metadata": {},
     "output_type": "execute_result"
    }
   ],
   "source": [
    "#查看每个基金经理的经理编码是否是唯一值\n",
    "managers['经理编码'].nunique()\n",
    "#查看每个基金代码是否是唯一值\n",
    "present['基金代码'].nunique()"
   ]
  },
  {
   "cell_type": "code",
   "execution_count": 17,
   "metadata": {},
   "outputs": [],
   "source": [
    "present['近三月收益率'] = present['近三月收益率'].astype('float')\n",
    "present['近六月收益率'] = present['近六月收益率'].astype('float')\n",
    "present['近一年收益率'] = present['近一年收益率'].astype('float')\n",
    "present['近两年收益率'] = present['近两年收益率'].astype('float')\n",
    "present['近三月排名'] = present['近三月排名'].astype('float')\n",
    "present['近三月同类基金数量'] = present['近三月同类基金数量'].astype('float')\n",
    "present['近六月排名'] = present['近六月排名'].astype('float')\n",
    "present['近六月同类基金数量'] = present['近六月同类基金数量'].astype('float')\n",
    "present['近一年排名'] = present['近一年排名'].astype('float')\n",
    "present['近一年同类基金数量'] = present['近一年同类基金数量'].astype('float')\n",
    "present['近两年排名'] = present['近两年排名'].astype('float')\n",
    "present['近两年同类基金数量'] = present['近两年同类基金数量'].astype('float')"
   ]
  },
  {
   "cell_type": "markdown",
   "metadata": {},
   "source": [
    "# 5.数据分析"
   ]
  },
  {
   "cell_type": "code",
   "execution_count": 18,
   "metadata": {},
   "outputs": [],
   "source": [
    "#任职时间过短的基金经理业绩的取得，随机因素产生的影响可能比较大，所以我们选取【累计任职时间】达到两年的，也就是>=730天\n",
    "managers = managers.loc[managers['累计任职时间']>=730,:]"
   ]
  },
  {
   "cell_type": "code",
   "execution_count": 19,
   "metadata": {},
   "outputs": [],
   "source": [
    "#将managers与present进行联结\n",
    "total = pd.merge(managers, present, on='经理编码', how='left')\n",
    "#total.shape[0]"
   ]
  },
  {
   "cell_type": "code",
   "execution_count": 20,
   "metadata": {},
   "outputs": [],
   "source": [
    "#看那一下，有没有基金代码为空的数据，这可能是抓取的时候漏抓了，或网页根本就没有此类数据。找到它们，然后删除。\n",
    "total['基金代码'].isnull().sum()\n",
    "total = total.dropna(how='any')\n",
    "#total.shape[0]\n",
    "#total.head()"
   ]
  },
  {
   "cell_type": "raw",
   "metadata": {},
   "source": [
    "接下来是我们分析的重点。对基金经理进行评分。首先，我们给每个基金每一阶段排名的百分位赋予权重：第一四分位为0.8，第二四分位为0.6，第三四分位为0.4，第四四分位为0；然后给每一阶段的时间序列赋予权重：近两年为0.6，近一年为0.25，近六月为0.1，近三月为0.05"
   ]
  },
  {
   "cell_type": "code",
   "execution_count": 21,
   "metadata": {},
   "outputs": [],
   "source": [
    "#首先计算出各阶段分位数\n",
    "total['近三月排名百分位'] = total['近三月排名']/total['近三月同类基金数量']\n",
    "total['近三月排名得分'] = total.apply(lambda x:0.8 if x['近三月排名百分位']<=0.25 else 0.6 if x['近三月排名百分位']>0.25 and x['近三月排名百分位']\\\n",
    "                              <=0.5 else 0.4 if x['近三月排名百分位']>0.5 and x['近三月排名百分位']<=0.75 else 0,axis=1)\n",
    "total['近六月排名百分位'] = total['近六月排名']/total['近六月同类基金数量']\n",
    "total['近六月排名得分'] = total.apply(lambda x:0.8 if x['近六月排名百分位']<=0.25 else 0.6 if x['近六月排名百分位']>0.25 and x['近六月排名百分位']\\\n",
    "                              <=0.5 else 0.4 if x['近六月排名百分位']>0.5 and x['近六月排名百分位']<=0.75 else 0,axis=1)\n",
    "total['近一年排名百分位'] = total['近一年排名']/total['近一年同类基金数量']\n",
    "total['近一年排名得分'] = total.apply(lambda x:0.8 if x['近一年排名百分位']<=0.25 else 0.6 if x['近一年排名百分位']>0.25 and x['近一年排名百分位']\\\n",
    "                              <=0.5 else 0.4 if x['近一年排名百分位']>0.5 and x['近一年排名百分位']<=0.75 else 0,axis=1)\n",
    "total['近两年排名百分位'] = total['近两年排名']/total['近两年同类基金数量']\n",
    "total['近两年排名得分'] = total.apply(lambda x:0.8 if x['近两年排名百分位']<=0.25 else 0.6 if x['近两年排名百分位']>0.25 and x['近两年排名百分位']\\\n",
    "                              <=0.5 else 0.4 if x['近两年排名百分位']>0.5 and x['近两年排名百分位']<=0.75 else 0,axis=1)"
   ]
  },
  {
   "cell_type": "code",
   "execution_count": 22,
   "metadata": {},
   "outputs": [],
   "source": [
    "#接下来计算每个基金的总体评分\n",
    "total['总体评分'] = total['近三月排名得分']*0.05 + total['近六月排名得分']*0.1 + total['近一年排名得分']*0.25 + total['近两年排名得分']*0.6"
   ]
  },
  {
   "cell_type": "code",
   "execution_count": 23,
   "metadata": {},
   "outputs": [],
   "source": [
    "#计算基金经理得分：按照基金类型和基金经理进行分组，用每个经理管理的每种类型的基金得分的计算平均数作为该基金经理该类型基金的得分。\n",
    "def get_score(df,lx):\n",
    "    df2 = df[df['基金类型']==lx]\n",
    "    m_score = df2.groupby('基金经理', as_index=False)['总体评分'].mean()\n",
    "    return m_score"
   ]
  },
  {
   "cell_type": "code",
   "execution_count": 24,
   "metadata": {},
   "outputs": [
    {
     "data": {
      "text/html": [
       "<div>\n",
       "<style scoped>\n",
       "    .dataframe tbody tr th:only-of-type {\n",
       "        vertical-align: middle;\n",
       "    }\n",
       "\n",
       "    .dataframe tbody tr th {\n",
       "        vertical-align: top;\n",
       "    }\n",
       "\n",
       "    .dataframe thead th {\n",
       "        text-align: right;\n",
       "    }\n",
       "</style>\n",
       "<table border=\"1\" class=\"dataframe\">\n",
       "  <thead>\n",
       "    <tr style=\"text-align: right;\">\n",
       "      <th></th>\n",
       "      <th>基金经理</th>\n",
       "      <th>总体评分</th>\n",
       "    </tr>\n",
       "  </thead>\n",
       "  <tbody>\n",
       "    <tr>\n",
       "      <th>119</th>\n",
       "      <td>贾成东</td>\n",
       "      <td>0.80</td>\n",
       "    </tr>\n",
       "    <tr>\n",
       "      <th>8</th>\n",
       "      <td>冯明远</td>\n",
       "      <td>0.80</td>\n",
       "    </tr>\n",
       "    <tr>\n",
       "      <th>145</th>\n",
       "      <td>高源</td>\n",
       "      <td>0.80</td>\n",
       "    </tr>\n",
       "    <tr>\n",
       "      <th>18</th>\n",
       "      <td>周应波</td>\n",
       "      <td>0.80</td>\n",
       "    </tr>\n",
       "    <tr>\n",
       "      <th>30</th>\n",
       "      <td>张宇帆</td>\n",
       "      <td>0.80</td>\n",
       "    </tr>\n",
       "    <tr>\n",
       "      <th>109</th>\n",
       "      <td>袁芳</td>\n",
       "      <td>0.80</td>\n",
       "    </tr>\n",
       "    <tr>\n",
       "      <th>61</th>\n",
       "      <td>杨柯</td>\n",
       "      <td>0.80</td>\n",
       "    </tr>\n",
       "    <tr>\n",
       "      <th>131</th>\n",
       "      <td>郭敏</td>\n",
       "      <td>0.80</td>\n",
       "    </tr>\n",
       "    <tr>\n",
       "      <th>77</th>\n",
       "      <td>王君正</td>\n",
       "      <td>0.79</td>\n",
       "    </tr>\n",
       "    <tr>\n",
       "      <th>93</th>\n",
       "      <td>肖觅</td>\n",
       "      <td>0.79</td>\n",
       "    </tr>\n",
       "  </tbody>\n",
       "</table>\n",
       "</div>"
      ],
      "text/plain": [
       "    基金经理  总体评分\n",
       "119  贾成东  0.80\n",
       "8    冯明远  0.80\n",
       "145   高源  0.80\n",
       "18   周应波  0.80\n",
       "30   张宇帆  0.80\n",
       "109   袁芳  0.80\n",
       "61    杨柯  0.80\n",
       "131   郭敏  0.80\n",
       "77   王君正  0.79\n",
       "93    肖觅  0.79"
      ]
     },
     "execution_count": 24,
     "metadata": {},
     "output_type": "execute_result"
    }
   ],
   "source": [
    "#股票型基金基金经理得分情况\n",
    "m_gp = get_score(total,'股票型')\n",
    "m_gp.sort_values('总体评分',ascending=False).head(10)"
   ]
  },
  {
   "cell_type": "code",
   "execution_count": 25,
   "metadata": {},
   "outputs": [
    {
     "data": {
      "text/html": [
       "<div>\n",
       "<style scoped>\n",
       "    .dataframe tbody tr th:only-of-type {\n",
       "        vertical-align: middle;\n",
       "    }\n",
       "\n",
       "    .dataframe tbody tr th {\n",
       "        vertical-align: top;\n",
       "    }\n",
       "\n",
       "    .dataframe thead th {\n",
       "        text-align: right;\n",
       "    }\n",
       "</style>\n",
       "<table border=\"1\" class=\"dataframe\">\n",
       "  <thead>\n",
       "    <tr style=\"text-align: right;\">\n",
       "      <th></th>\n",
       "      <th>基金经理</th>\n",
       "      <th>总体评分</th>\n",
       "    </tr>\n",
       "  </thead>\n",
       "  <tbody>\n",
       "    <tr>\n",
       "      <th>485</th>\n",
       "      <td>苏秉毅</td>\n",
       "      <td>0.8</td>\n",
       "    </tr>\n",
       "    <tr>\n",
       "      <th>440</th>\n",
       "      <td>神玉飞</td>\n",
       "      <td>0.8</td>\n",
       "    </tr>\n",
       "    <tr>\n",
       "      <th>532</th>\n",
       "      <td>计伟</td>\n",
       "      <td>0.8</td>\n",
       "    </tr>\n",
       "    <tr>\n",
       "      <th>133</th>\n",
       "      <td>国晓雯</td>\n",
       "      <td>0.8</td>\n",
       "    </tr>\n",
       "    <tr>\n",
       "      <th>641</th>\n",
       "      <td>陶曙斌</td>\n",
       "      <td>0.8</td>\n",
       "    </tr>\n",
       "    <tr>\n",
       "      <th>420</th>\n",
       "      <td>王维诚</td>\n",
       "      <td>0.8</td>\n",
       "    </tr>\n",
       "    <tr>\n",
       "      <th>15</th>\n",
       "      <td>付斌</td>\n",
       "      <td>0.8</td>\n",
       "    </tr>\n",
       "    <tr>\n",
       "      <th>139</th>\n",
       "      <td>姚爽</td>\n",
       "      <td>0.8</td>\n",
       "    </tr>\n",
       "    <tr>\n",
       "      <th>603</th>\n",
       "      <td>金梓才</td>\n",
       "      <td>0.8</td>\n",
       "    </tr>\n",
       "    <tr>\n",
       "      <th>58</th>\n",
       "      <td>刘彦春</td>\n",
       "      <td>0.8</td>\n",
       "    </tr>\n",
       "  </tbody>\n",
       "</table>\n",
       "</div>"
      ],
      "text/plain": [
       "    基金经理  总体评分\n",
       "485  苏秉毅   0.8\n",
       "440  神玉飞   0.8\n",
       "532   计伟   0.8\n",
       "133  国晓雯   0.8\n",
       "641  陶曙斌   0.8\n",
       "420  王维诚   0.8\n",
       "15    付斌   0.8\n",
       "139   姚爽   0.8\n",
       "603  金梓才   0.8\n",
       "58   刘彦春   0.8"
      ]
     },
     "execution_count": 25,
     "metadata": {},
     "output_type": "execute_result"
    }
   ],
   "source": [
    "#混合型基金基金经理得分情况\n",
    "m_hh = get_score(total,'混合型')\n",
    "m_hh.sort_values('总体评分',ascending=False).head(10)"
   ]
  },
  {
   "cell_type": "code",
   "execution_count": 26,
   "metadata": {},
   "outputs": [
    {
     "data": {
      "text/html": [
       "<div>\n",
       "<style scoped>\n",
       "    .dataframe tbody tr th:only-of-type {\n",
       "        vertical-align: middle;\n",
       "    }\n",
       "\n",
       "    .dataframe tbody tr th {\n",
       "        vertical-align: top;\n",
       "    }\n",
       "\n",
       "    .dataframe thead th {\n",
       "        text-align: right;\n",
       "    }\n",
       "</style>\n",
       "<table border=\"1\" class=\"dataframe\">\n",
       "  <thead>\n",
       "    <tr style=\"text-align: right;\">\n",
       "      <th></th>\n",
       "      <th>基金经理</th>\n",
       "      <th>总体评分</th>\n",
       "    </tr>\n",
       "  </thead>\n",
       "  <tbody>\n",
       "    <tr>\n",
       "      <th>51</th>\n",
       "      <td>梅律吾</td>\n",
       "      <td>0.79</td>\n",
       "    </tr>\n",
       "    <tr>\n",
       "      <th>38</th>\n",
       "      <td>方旻</td>\n",
       "      <td>0.79</td>\n",
       "    </tr>\n",
       "    <tr>\n",
       "      <th>33</th>\n",
       "      <td>彭海平</td>\n",
       "      <td>0.79</td>\n",
       "    </tr>\n",
       "    <tr>\n",
       "      <th>84</th>\n",
       "      <td>陈建华</td>\n",
       "      <td>0.79</td>\n",
       "    </tr>\n",
       "    <tr>\n",
       "      <th>76</th>\n",
       "      <td>赵云阳</td>\n",
       "      <td>0.78</td>\n",
       "    </tr>\n",
       "    <tr>\n",
       "      <th>31</th>\n",
       "      <td>张胜记</td>\n",
       "      <td>0.78</td>\n",
       "    </tr>\n",
       "    <tr>\n",
       "      <th>12</th>\n",
       "      <td>吴迪</td>\n",
       "      <td>0.77</td>\n",
       "    </tr>\n",
       "    <tr>\n",
       "      <th>58</th>\n",
       "      <td>申庆</td>\n",
       "      <td>0.76</td>\n",
       "    </tr>\n",
       "    <tr>\n",
       "      <th>66</th>\n",
       "      <td>苏卿云</td>\n",
       "      <td>0.74</td>\n",
       "    </tr>\n",
       "    <tr>\n",
       "      <th>3</th>\n",
       "      <td>何如</td>\n",
       "      <td>0.74</td>\n",
       "    </tr>\n",
       "  </tbody>\n",
       "</table>\n",
       "</div>"
      ],
      "text/plain": [
       "   基金经理  总体评分\n",
       "51  梅律吾  0.79\n",
       "38   方旻  0.79\n",
       "33  彭海平  0.79\n",
       "84  陈建华  0.79\n",
       "76  赵云阳  0.78\n",
       "31  张胜记  0.78\n",
       "12   吴迪  0.77\n",
       "58   申庆  0.76\n",
       "66  苏卿云  0.74\n",
       "3    何如  0.74"
      ]
     },
     "execution_count": 26,
     "metadata": {},
     "output_type": "execute_result"
    }
   ],
   "source": [
    "#股票指数型基金基金经理得分情况\n",
    "m_zs = get_score(total,'股票指数')\n",
    "m_zs.sort_values('总体评分',ascending=False).head(10)"
   ]
  },
  {
   "cell_type": "raw",
   "metadata": {},
   "source": [
    "接下来计算每种类型基金每个阶段收益率的均值，然后同样对其进行加权，将结果作为该类型基金的得分。加权方式为：近两年为0.6，近一年为0.25，近六月为0.1，近三月为0.05"
   ]
  },
  {
   "cell_type": "code",
   "execution_count": 27,
   "metadata": {},
   "outputs": [
    {
     "data": {
      "text/html": [
       "<div>\n",
       "<style scoped>\n",
       "    .dataframe tbody tr th:only-of-type {\n",
       "        vertical-align: middle;\n",
       "    }\n",
       "\n",
       "    .dataframe tbody tr th {\n",
       "        vertical-align: top;\n",
       "    }\n",
       "\n",
       "    .dataframe thead th {\n",
       "        text-align: right;\n",
       "    }\n",
       "</style>\n",
       "<table border=\"1\" class=\"dataframe\">\n",
       "  <thead>\n",
       "    <tr style=\"text-align: right;\">\n",
       "      <th></th>\n",
       "      <th>基金类型</th>\n",
       "      <th>近三月收益率</th>\n",
       "      <th>近六月收益率</th>\n",
       "      <th>近一年收益率</th>\n",
       "      <th>近两年收益率</th>\n",
       "      <th>score</th>\n",
       "    </tr>\n",
       "  </thead>\n",
       "  <tbody>\n",
       "    <tr>\n",
       "      <th>0</th>\n",
       "      <td>混合型</td>\n",
       "      <td>0.108128</td>\n",
       "      <td>0.079099</td>\n",
       "      <td>-0.015479</td>\n",
       "      <td>0.077159</td>\n",
       "      <td>0.055742</td>\n",
       "    </tr>\n",
       "    <tr>\n",
       "      <th>1</th>\n",
       "      <td>股票型</td>\n",
       "      <td>0.151501</td>\n",
       "      <td>0.102113</td>\n",
       "      <td>-0.063132</td>\n",
       "      <td>0.052114</td>\n",
       "      <td>0.033272</td>\n",
       "    </tr>\n",
       "    <tr>\n",
       "      <th>2</th>\n",
       "      <td>股票指数</td>\n",
       "      <td>0.161105</td>\n",
       "      <td>0.132234</td>\n",
       "      <td>-0.055274</td>\n",
       "      <td>-0.001024</td>\n",
       "      <td>0.006846</td>\n",
       "    </tr>\n",
       "  </tbody>\n",
       "</table>\n",
       "</div>"
      ],
      "text/plain": [
       "   基金类型    近三月收益率    近六月收益率    近一年收益率    近两年收益率     score\n",
       "0   混合型  0.108128  0.079099 -0.015479  0.077159  0.055742\n",
       "1   股票型  0.151501  0.102113 -0.063132  0.052114  0.033272\n",
       "2  股票指数  0.161105  0.132234 -0.055274 -0.001024  0.006846"
      ]
     },
     "execution_count": 27,
     "metadata": {},
     "output_type": "execute_result"
    }
   ],
   "source": [
    "lx_group = total.groupby('基金类型',as_index=False).agg({'近三月收益率':np.mean, '近六月收益率':np.mean, '近一年收益率':np.mean,\\\n",
    "                                                 '近两年收益率':np.mean,})\n",
    "lx_group['score'] = lx_group['近三月收益率']*0.05+lx_group['近六月收益率']*0.1+lx_group['近一年收益率']*0.25+lx_group['近两年收益率']*0.6\n",
    "lx_group"
   ]
  },
  {
   "cell_type": "raw",
   "metadata": {},
   "source": [
    "可视化"
   ]
  },
  {
   "cell_type": "raw",
   "metadata": {},
   "source": [
    "各类型基金，基金经理各分段数量情况"
   ]
  },
  {
   "cell_type": "code",
   "execution_count": 28,
   "metadata": {},
   "outputs": [],
   "source": [
    "font = {'family':'SimHei'}\n",
    "plt.rc('font',**font)\n",
    "def plot_bar(df):\n",
    "    df['基金经理评分'] = pd.cut(df['总体评分'],bins=np.arange(0,1,0.1))\n",
    "    sns.set_palette('muted')\n",
    "    plt.figure(figsize=(10,6))\n",
    "    sns.countplot(data=df,x='基金经理评分')\n",
    "    plt.xticks(rotation=45)\n",
    "    return plt.show()"
   ]
  },
  {
   "cell_type": "code",
   "execution_count": 29,
   "metadata": {},
   "outputs": [
    {
     "data": {
      "image/png": "[encoded data removed]",
      "text/plain": [
       "<Figure size 720x432 with 1 Axes>"
      ]
     },
     "metadata": {
      "needs_background": "light"
     },
     "output_type": "display_data"
    }
   ],
   "source": [
    "#股票型基金各分段基金经理数量\n",
    "plot_bar(m_gp)"
   ]
  },
  {
   "cell_type": "code",
   "execution_count": 30,
   "metadata": {},
   "outputs": [
    {
     "data": {
      "image/png": "[encoded data removed]",
      "text/plain": [
       "<Figure size 720x432 with 1 Axes>"
      ]
     },
     "metadata": {
      "needs_background": "light"
     },
     "output_type": "display_data"
    }
   ],
   "source": [
    "#混合型基金各分段基金经理数量\n",
    "plot_bar(m_hh)"
   ]
  },
  {
   "cell_type": "code",
   "execution_count": 31,
   "metadata": {},
   "outputs": [
    {
     "data": {
      "image/png": "[encoded data removed]",
      "text/plain": [
       "<Figure size 720x432 with 1 Axes>"
      ]
     },
     "metadata": {
      "needs_background": "light"
     },
     "output_type": "display_data"
    }
   ],
   "source": [
    "#指数型基金各分段基金经理数量\n",
    "plot_bar(m_zs)"
   ]
  },
  {
   "cell_type": "raw",
   "metadata": {},
   "source": [
    "各类型基金收益率均值各时间段的变化情况"
   ]
  },
  {
   "cell_type": "code",
   "execution_count": 32,
   "metadata": {},
   "outputs": [
    {
     "data": {
      "image/png": "[encoded data removed]",
      "text/plain": [
       "<Figure size 864x360 with 1 Axes>"
      ]
     },
     "metadata": {
      "needs_background": "light"
     },
     "output_type": "display_data"
    }
   ],
   "source": [
    "font = {'family':'SimHei'}\n",
    "plt.rc('font',**font)\n",
    "y1 = list(lx_group.iloc[0,1:5])\n",
    "y2 = list(lx_group.iloc[1,1:5])\n",
    "y3 = list(lx_group.iloc[2,1:5])\n",
    "x = list(lx_group.columns)[1:5]\n",
    "plt.figure(figsize=(12,5))\n",
    "plt.plot(x,y1,color='hotpink',label='混合型')\n",
    "plt.plot(x,y2,color='seagreen',label='股票型')\n",
    "plt.plot(x,y3,color='tomato',label='股票指数')\n",
    "plt.legend()\n",
    "plt.show()"
   ]
  },
  {
   "cell_type": "raw",
   "metadata": {},
   "source": [
    "结论：\n",
    "\n",
    "1.股票指数型基金、混合基金、股票基金哪种类型更适合新手操作？\n",
    "    混合型基金更适合新手操作。从各类型基金得分情况来看，混合型为0.055742，股票型为0.033272，指数型为0.006846，混合型得分最高。从各类型基金收益率均值各时间段的变化情况图来看，混合型基金收益率各时间段相对比较平稳，虽然各类型都根据股市的表现情况都有相同的趋势，但混合型基金更容易让散户拿的住，以静待时间带来真正回报的那一天。而被动型的指数基金，涨跌变化很大，对于新手来说容易追涨杀跌，涨的时候赚的是市场交易的钱，跌的时候跌幅过大，经验不足很容易产生恐惧心理，让浮亏变成真正的亏损。\n",
    "    \n",
    "2.如何找到优秀的基金经理？\n",
    "    由于不同类型的基金不具有太强可比性，我们对各类别基金分别进行研究。由于数据集及模型原因，得分无法对一个基金经理真实的水平进行精确的评价。但作为参考还是有效的。处于高分段的基金经理确实表现相对比较好。如股票型基金排名前十的冯明远、周应波、袁芳；混合型基金排名前十的刘彦春；指数型排名前十的张胜记、申庆都是非常优秀的基金经理。同时根据各类型基金各分段基金经理数量我们也了解到，各类别高分段的基金经理占的数量相对都比较少，但还是有差别的，主动型的基金，像混合型和股票型分布相对更均匀，各分段的基金经理数量都有，但是指数型的各分段数量则差异较大，评分低与评分高的都较少。这与预期也相符，因为指数型，基金经理不用花费过多经历在择股及择时上，主要做的是拟合对应的指数，所以会造成一大批得分一般的基金经理。总体来说，选主动管理型的基金经理，如股票型或混合型，基金经理很重要，不同的基金很容易拉开距离，指数型的基金经理相对而言重要性没那么高。\n",
    "    \n",
    "注意：\n",
    "1.选取的数据时间范围为2019年3月近两年，经历了2017年的小牛市和2018年的小熊市，也算是穿越了一个牛熊，所以相对来讲数据更能反映实际情况。\n",
    "2.数据集过小，数据量过小，以及模型比较简单，造成结果比较有局限性，比如基金经理评分区分度略小，前十的很多评分一致。同时据我的基金操作经验，很  多很优秀的基金经理也未出现。"
   ]
  }
 ],
 "metadata": {
  "kernelspec": {
   "display_name": "Python 3",
   "language": "python",
   "name": "python3"
  },
  "language_info": {
   "codemirror_mode": {
    "name": "ipython",
    "version": 3
   },
   "file_extension": ".py",
   "mimetype": "text/x-python",
   "name": "python",
   "nbconvert_exporter": "python",
   "pygments_lexer": "ipython3",
   "version": "3.6.7"
  }
 },
 "nbformat": 4,
 "nbformat_minor": 2
}
